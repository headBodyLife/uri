{
 "cells": [
  {
   "cell_type": "markdown",
   "metadata": {},
   "source": [
    "Leia 4 valores inteiros A, B, C e D. A seguir, se B for maior do que C e se D for maior do que A, e a soma de C com D for maior que a soma de A e B e se C e D, ambos, forem positivos e se a variável A for par escrever a mensagem \"Valores aceitos\", senão escrever \"Valores nao aceitos\".\n",
    "\n",
    "Entrada\n",
    "Quatro números inteiros A, B, C e D.\n",
    "\n",
    "Saída\n",
    "Mostre a respectiva mensagem após a validação dos valores.<br>\n",
    "Exemplo de Entrada\tExemplo de Saída<br>\n",
    "5 6 7 8\n",
    "\n",
    "Valores nao aceitos\n",
    "\n",
    "2 3 2 6\n",
    "\n",
    "Valores aceitos\n",
    "\n"
   ]
  },
  {
   "cell_type": "code",
   "execution_count": 16,
   "metadata": {},
   "outputs": [
    {
     "name": "stdout",
     "output_type": "stream",
     "text": [
      "5 6 7 8\n",
      "Valores nao aceitos\n"
     ]
    }
   ],
   "source": [
    "a,b,c,d = list(map(int,input().split()))\n",
    "\n",
    "if b > c and d > a and (c+d) > (a+b) and (c>0) and (d>0) and a % 2 == 0 :\n",
    "    print('Valores aceitos')\n",
    "else:\n",
    "    print('Valores nao aceitos')"
   ]
  },
  {
   "cell_type": "code",
   "execution_count": 7,
   "metadata": {},
   "outputs": [
    {
     "data": {
      "text/plain": [
       "int"
      ]
     },
     "execution_count": 7,
     "metadata": {},
     "output_type": "execute_result"
    }
   ],
   "source": [
    "type(a)"
   ]
  },
  {
   "cell_type": "code",
   "execution_count": null,
   "metadata": {},
   "outputs": [],
   "source": []
  }
 ],
 "metadata": {
  "kernelspec": {
   "display_name": "Python 3",
   "language": "python",
   "name": "python3"
  },
  "language_info": {
   "codemirror_mode": {
    "name": "ipython",
    "version": 3
   },
   "file_extension": ".py",
   "mimetype": "text/x-python",
   "name": "python",
   "nbconvert_exporter": "python",
   "pygments_lexer": "ipython3",
   "version": "3.8.5"
  }
 },
 "nbformat": 4,
 "nbformat_minor": 4
}
