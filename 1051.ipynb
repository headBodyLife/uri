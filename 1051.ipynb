{
 "cells": [
  {
   "attachments": {
    "891c3dee-24f3-490d-9b1d-c13a92a19d71.png": {
     "image/png": "[encoded data removed]"
    },
    "ec74045c-9497-4978-95e0-72c922abaa79.png": {
     "image/png": "[encoded data removed]"
    }
   },
   "cell_type": "markdown",
   "metadata": {},
   "source": [
    "\n",
    "![image.png](attachment:891c3dee-24f3-490d-9b1d-c13a92a19d71.png)\n",
    "![image.png](attachment:ec74045c-9497-4978-95e0-72c922abaa79.png)"
   ]
  },
  {
   "cell_type": "markdown",
   "metadata": {},
   "source": [
    "Lembre que, se o salário for  3002.00, a taxa que incide é de 8% apenas sobre R 1000.00, pois a faixa de salário que fica de R 0.00 até R 2000.00 é isenta de Imposto de Renda. No exemplo fornecido (abaixo), a taxa é de 8% sobre R 1000.00 + 18% sobre R 2.00, o que resulta em R 80.36 no total. O valor deve ser impresso com duas casas decimais."
   ]
  },
  {
   "cell_type": "code",
   "execution_count": 284,
   "metadata": {},
   "outputs": [
    {
     "name": "stdin",
     "output_type": "stream",
     "text": [
      " 3002\n"
     ]
    },
    {
     "name": "stdout",
     "output_type": "stream",
     "text": [
      "R$ 80.36\n",
      "2\n"
     ]
    }
   ],
   "source": [
    "entrada = float(input())\n",
    "if entrada < 2000:\n",
    "    print('Isento')\n",
    "elif entrada < 3000:\n",
    "    entrada = ((entrada - 2000) / 100) * 8\n",
    "    print(f\"R$ {entrada:.2f}\")\n",
    "elif entrada < 4500:\n",
    "    entrada = ((entrada - 3000) / 100) * 18\n",
    "    entrada = entrada + 80\n",
    "    print(f\"R$ {entrada:.2f}\")\n",
    "else:\n",
    "    entrada = ((entrada - 4500) / 100) * 28\n",
    "    entrada = entrada + 270+80\n",
    "    print(f\"R$ {entrada:.2f}\")\n"
   ]
  },
  {
   "cell_type": "code",
   "execution_count": 288,
   "metadata": {},
   "outputs": [
    {
     "name": "stdin",
     "output_type": "stream",
     "text": [
      " 3002\n"
     ]
    },
    {
     "name": "stdout",
     "output_type": "stream",
     "text": [
      "4500\n",
      "1\n",
      "0.36\n"
     ]
    }
   ],
   "source": [
    "entrada = float(input())\n",
    "max_valor = [2000,3000,4500]\n",
    "porcento = [8,18,28]\n",
    "cont= 0\n",
    "\n",
    "for indice,i in enumerate(max_valor):\n",
    "    \n",
    "    if entrada < i:\n",
    "        print(i)\n",
    "        \n",
    "        entrada = ((entrada - max_valor[1]) / 100) * porcento[1]\n",
    "        cont += 1\n",
    "        print(cont)\n",
    "    elif entrada \n",
    "        \n",
    "        break\n",
    "print(entrada)\n",
    "   \n",
    "   "
   ]
  },
  {
   "cell_type": "code",
   "execution_count": 150,
   "metadata": {},
   "outputs": [
    {
     "data": {
      "text/plain": [
       "4.399999999999977"
      ]
     },
     "execution_count": 150,
     "metadata": {},
     "output_type": "execute_result"
    }
   ],
   "source": [
    "360-355.60"
   ]
  },
  {
   "cell_type": "code",
   "execution_count": 280,
   "metadata": {},
   "outputs": [
    {
     "name": "stdout",
     "output_type": "stream",
     "text": [
      "5253\n",
      "8% = 420.24\n",
      "18% = 945.54\n",
      "28% = 1470.84\n",
      "\n",
      "3002\n",
      "8% = 240.16\n",
      "18% = 540.36\n",
      "28% = 840.56\n",
      "\n",
      "4020\n",
      "8% = 321.60\n",
      "18% = 723.60\n",
      "28% = 1125.60\n",
      "\n",
      "500\n",
      "8% = 40.00\n",
      "18% = 90.00\n",
      "28% = 140.00\n",
      "\n",
      "2\n",
      "8% = 0.16\n",
      "18% = 0.36\n",
      "28% = 0.56\n",
      "\n",
      "20\n",
      "8% = 1.60\n",
      "18% = 3.60\n",
      "28% = 5.60\n",
      "\n",
      "1500\n",
      "8% = 120.00\n",
      "18% = 270.00\n",
      "28% = 420.00\n",
      "\n",
      "100\n",
      "8% = 8.00\n",
      "18% = 18.00\n",
      "28% = 28.00\n",
      "\n",
      "520\n",
      "8% = 41.60\n",
      "18% = 93.60\n",
      "28% = 145.60\n",
      "\n",
      "1000\n",
      "8% = 80.00\n",
      "18% = 180.00\n",
      "28% = 280.00\n",
      "\n",
      "3000\n",
      "8% = 240.00\n",
      "18% = 540.00\n",
      "28% = 840.00\n",
      "\n",
      "1520\n",
      "8% = 121.60\n",
      "18% = 273.60\n",
      "28% = 425.60\n",
      "\n",
      "2000\n",
      "8% = 160.00\n",
      "18% = 360.00\n",
      "28% = 560.00\n",
      "\n",
      "2400\n",
      "8% = 192.00\n",
      "18% = 432.00\n",
      "28% = 672.00\n",
      "\n",
      "2400\n",
      "8% = 192.00\n",
      "18% = 432.00\n",
      "28% = 672.00\n",
      "\n",
      "1100\n",
      "8% = 88.00\n",
      "18% = 198.00\n",
      "28% = 308.00\n",
      "\n"
     ]
    }
   ],
   "source": [
    "## 1000 % 8 = 80\n",
    "#1000 % 18 = 180\n",
    "#1000 % 28 = 280\n",
    "## 5.60 em 28% de 20\n",
    "#4400\n",
    "#332\n",
    "lista = [5253,3002,4020,500,2,20,1500,100,520,1000,3000,1520,2000,2400,2400,1100]\n",
    "percent = [8,18,28]\n",
    "for i in lista:\n",
    "    print(i)\n",
    "    for indice,j in enumerate(percent):\n",
    "        mult = (i/100) *j\n",
    "        print(f\"{percent[indice]}% = {mult:.2f}\")\n",
    "    print()\n",
    "    \n"
   ]
  },
  {
   "cell_type": "code",
   "execution_count": null,
   "metadata": {},
   "outputs": [],
   "source": []
  },
  {
   "cell_type": "code",
   "execution_count": null,
   "metadata": {},
   "outputs": [],
   "source": []
  }
 ],
 "metadata": {
  "kernelspec": {
   "display_name": "Python 3",
   "language": "python",
   "name": "python3"
  },
  "language_info": {
   "codemirror_mode": {
    "name": "ipython",
    "version": 3
   },
   "file_extension": ".py",
   "mimetype": "text/x-python",
   "name": "python",
   "nbconvert_exporter": "python",
   "pygments_lexer": "ipython3",
   "version": "3.8.5"
  }
 },
 "nbformat": 4,
 "nbformat_minor": 4
}
