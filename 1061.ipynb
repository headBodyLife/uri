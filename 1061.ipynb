{
 "cells": [
  {
   "attachments": {
    "image.png": {
     "image/png": "[encoded data removed]"
    }
   },
   "cell_type": "markdown",
   "metadata": {},
   "source": [
    "Entrada<br>\n",
    "Como entrada, na primeira linha vai haver a descrição “Dia”, seguido de um espaço e o dia do mês no qual o evento vai começar. Na linha seguinte, será informado o momento no qual o evento vai iniciar, no formato hh : mm : ss. Na terceira e quarta linha de entrada haverá outra informação no mesmo formato das duas primeiras linhas, indicando o término do evento.<br>\n",
    "\n",
    "Saída<br>\n",
    "Na saída, deve ser apresentada a duração do evento, no seguinte formato:<br>\n",
    "\n",
    "W dia(s)<br>\n",
    "X hora(s)<br>\n",
    "Y minuto(s)<br>\n",
    "Z segundo(s)<br>\n",
    "\n",
    "Obs: Considere que o evento do caso de teste para o problema tem duração mínima de 1 minuto.<br>\n",
    "![image.png](attachment:image.png)"
   ]
  },
  {
   "cell_type": "code",
   "execution_count": 30,
   "metadata": {},
   "outputs": [
    {
     "name": "stdin",
     "output_type": "stream",
     "text": [
      " dia 5\n",
      " 8 : 13 : 23\n",
      " dia 9\n",
      " 7 : 12 : 23\n"
     ]
    },
    {
     "name": "stdout",
     "output_type": "stream",
     "text": [
      "3 23 59 0\n",
      "3 dia(s)\n",
      "23 hora(s)\n",
      "59 minuto(s)\n",
      "0 segundo(s)\n"
     ]
    }
   ],
   "source": [
    "#Dia 5\n",
    "#08 : 59 : 37\n",
    "#Dia 6\n",
    "#07 : 52 : 36\n",
    "\n",
    "## 08 : 59 : 37  07 : 52 : 36\n",
    "dia1 = (input(\"\").split(' '))\n",
    "horario1 = list(map(int,input().split(' : ')))\n",
    "dia2 = (input(\"\").split(' '))\n",
    "horario2 = list(map(int,input().split(' : ')))\n",
    "\n",
    "\n",
    "\n",
    "dias = abs(int(dia1[1])-int(dia2[1])) -1\n",
    "h_res = ((abs(horario1[0]- horario2[0]) if horario1[0] < horario2[0] else (24 - horario1[0])+horario2[0])) #-1\n",
    "if horario1[1] and horario2[1] != 0 and horario1[1] != horario2[1]:\n",
    "    m_res = ((abs(horario1[1]- horario2[1]) if horario1[1] < horario2[1] else (60 - horario1[1])+horario2[1]))\n",
    "else:\n",
    "    m_res = 0\n",
    "if horario1[2] and horario2[2] != 0 and  horario1[2] != horario2[2]:\n",
    "    s_res = (abs(horario1[2]- horario2[2]) if horario1[2] < horario2[2] else (60 - horario1[2])+horario2[2])\n",
    "else:\n",
    "    s_res = 0\n",
    "print(dias,h_res,m_res,s_res)\n",
    "\n",
    "if s_res == 60:\n",
    "    s_res = 0\n",
    "    m_res += 1\n",
    "if horario1[2] == horario2[2]:\n",
    "    s_res = 0\n",
    "\n",
    "if m_res >= 60:\n",
    "    m_res = m_res - 60\n",
    "    h_res+=1\n",
    "if horario1[1] == horario2[1]:\n",
    "    m_res = 0\n",
    "if h_res > 23:\n",
    "    h_res = 0\n",
    "    dias += 1\n",
    "if horario2[0] > horario1[0]:\n",
    "    dias += 1\n",
    "\n",
    "\n",
    "\n",
    "\n",
    "print(f\"\"\"{dias} dia(s)\n",
    "{h_res} hora(s)\n",
    "{m_res} minuto(s)\n",
    "{s_res} segundo(s)\"\"\")"
   ]
  },
  {
   "cell_type": "markdown",
   "metadata": {},
   "source": [
    "Dia 5\n",
    "08 : 12 : 23\n",
    "Dia 9\n",
    "06 : 13 : 23\n",
    "        \n",
    "        \n",
    "Dia 5\n",
    "08 : 12 : 23\n",
    "Dia 9\n",
    "09 : 13 : 23\n",
    "------------------------------------------        \n",
    "Dia 5\n",
    "08 : 13 : 23\n",
    "Dia 9\n",
    "07 : 12 : 23\n",
    "\n",
    "deveria ser:\n",
    "3 dia(s)\n",
    "23 hora(s)\n",
    "59 minuto(s)\n",
    "0 segundo(s)"
   ]
  },
  {
   "cell_type": "markdown",
   "metadata": {},
   "source": [
    "<b>Solução do professor Adorilson<br>\n"
   ]
  },
  {
   "cell_type": "code",
   "execution_count": 29,
   "metadata": {},
   "outputs": [
    {
     "name": "stdin",
     "output_type": "stream",
     "text": [
      " diia 5\n",
      " 8 : 13 : 23\n",
      " dia 9\n",
      " 7 : 12 : 23\n"
     ]
    },
    {
     "name": "stdout",
     "output_type": "stream",
     "text": [
      "3 dia(s)\n",
      "22 hora(s)\n",
      "59 minuto(s)\n",
      "0 segundo(s)\n"
     ]
    }
   ],
   "source": [
    "dia1 = int(input().split()[1])\n",
    "hora_dia1, minuto_dia1, segundo_dia1 = list(map(int, input().split(' : ')))\n",
    "\n",
    "dia2 = int(input().split()[1])\n",
    "hora_dia2, minuto_dia2, segundo_dia2 = list(map(int,input().split(' : ')))\n",
    "\n",
    "dias = dia2 - dia1 - 1\n",
    " \n",
    "horas = hora_dia2 - hora_dia1 -1\n",
    "minutos = minuto_dia2 - minuto_dia1 - 1\n",
    "segundos = segundo_dia2 - segundo_dia1\n",
    "\n",
    "if horas<0:\n",
    "  horas = 24 + horas \n",
    "else:\n",
    "  dias = dias + 1\n",
    "\n",
    "if minutos < 0:\n",
    "  minutos = 60 + minutos\n",
    "else:\n",
    "  horas = horas + 1\n",
    "\n",
    "if segundos < 0:\n",
    "  segundos = 60 + segundos \n",
    "else:\n",
    "  minutos = minutos + 1\n",
    "\n",
    "if segundos==60:\n",
    "  segundos = 0\n",
    "  minutos = minutos + 1\n",
    "\n",
    "if minutos==60:\n",
    "  minutos = 0\n",
    "  horas = horas + 1\n",
    "\n",
    "if horas==24:\n",
    "  horas = 0\n",
    "  dias   = dias + 1\n",
    "\n",
    "\n",
    "print(f\"\"\"{dias} dia(s)\n",
    "{horas} hora(s)\n",
    "{minutos} minuto(s)\n",
    "{segundos} segundo(s)\"\"\")"
   ]
  }
 ],
 "metadata": {
  "kernelspec": {
   "display_name": "Python 3",
   "language": "python",
   "name": "python3"
  },
  "language_info": {
   "codemirror_mode": {
    "name": "ipython",
    "version": 3
   },
   "file_extension": ".py",
   "mimetype": "text/x-python",
   "name": "python",
   "nbconvert_exporter": "python",
   "pygments_lexer": "ipython3",
   "version": "3.6.12"
  }
 },
 "nbformat": 4,
 "nbformat_minor": 4
}
