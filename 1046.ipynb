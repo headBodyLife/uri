{
 "cells": [
  {
   "cell_type": "markdown",
   "metadata": {},
   "source": [
    "Leia a hora inicial e a hora final de um jogo. A seguir calcule a duração do jogo, sabendo que o mesmo pode começar em um dia e terminar em outro, tendo uma duração mínima de 1 hora e máxima de 24 horas.\n",
    "\n",
    "Entrada\n",
    "A entrada contém dois valores inteiros representando a hora de início e a hora de fim do jogo.\n",
    "\n",
    "Saída\n",
    "Apresente a duração do jogo conforme exemplo abaixo."
   ]
  },
  {
   "cell_type": "code",
   "execution_count": 29,
   "metadata": {},
   "outputs": [
    {
     "name": "stdin",
     "output_type": "stream",
     "text": [
      " 323 4\n"
     ]
    },
    {
     "name": "stdout",
     "output_type": "stream",
     "text": [
      "O JOGO DUROU 17 HORA(S)\n"
     ]
    }
   ],
   "source": [
    "a,b = map(int,input().split())\n",
    "tempo_resto = ((24-a)+b) % 24\n",
    "if a==b==0:\n",
    "    print(\"O JOGO DUROU 24 HORA(S)\")\n",
    "elif tempo_resto <= 24:\n",
    "    print(f\"O JOGO DUROU {tempo_resto} HORA(S)\")"
   ]
  },
  {
   "cell_type": "code",
   "execution_count": 81,
   "metadata": {},
   "outputs": [
    {
     "name": "stdin",
     "output_type": "stream",
     "text": [
      " 16 2\n"
     ]
    },
    {
     "name": "stdout",
     "output_type": "stream",
     "text": [
      "10\n",
      "O JOGO DUROU 10 HORA(S)\n"
     ]
    }
   ],
   "source": [
    "a,b = map(int,input().split())\n",
    "tempo_resto = abs(a-b) if a < b else (24 - a)+b\n",
    "if tempo_resto <= 24:\n",
    "    print(\"O JOGO DUROU 24 HORA(S)\" if a==b==0 else f\"O JOGO DUROU {tempo_resto} HORA(S)\")\n",
    "else:\n",
    "    print(f\"O JOGO DUROU {tempo_resto} HORA(S)\")"
   ]
  },
  {
   "cell_type": "code",
   "execution_count": 23,
   "metadata": {},
   "outputs": [
    {
     "name": "stdin",
     "output_type": "stream",
     "text": [
      " 2 16\n"
     ]
    },
    {
     "data": {
      "text/plain": [
       "14"
      ]
     },
     "execution_count": 23,
     "metadata": {},
     "output_type": "execute_result"
    }
   ],
   "source": [
    "a,b = map(int,input().split())\n",
    "((24-a)+b) - 24"
   ]
  }
 ],
 "metadata": {
  "kernelspec": {
   "display_name": "Python 3",
   "language": "python",
   "name": "python3"
  },
  "language_info": {
   "codemirror_mode": {
    "name": "ipython",
    "version": 3
   },
   "file_extension": ".py",
   "mimetype": "text/x-python",
   "name": "python",
   "nbconvert_exporter": "python",
   "pygments_lexer": "ipython3",
   "version": "3.8.5"
  }
 },
 "nbformat": 4,
 "nbformat_minor": 4
}
