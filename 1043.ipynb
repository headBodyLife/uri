{
 "cells": [
  {
   "attachments": {
    "0ad15118-eb3b-4a5b-85f8-ca0fae43cdfc.png": {
     "image/png": "[encoded data removed]"
    }
   },
   "cell_type": "markdown",
   "metadata": {},
   "source": [
    "Leia 3 valores reais (A, B e C) e verifique se eles formam ou não um triângulo. Em caso positivo, calcule o perímetro do triângulo e apresente a mensagem:\n",
    "\n",
    "\n",
    "Perimetro = XX.X\n",
    "\n",
    "\n",
    "Em caso negativo, calcule a área do trapézio que tem A e B como base e C como altura, mostrando a mensagem\n",
    "\n",
    "\n",
    "Area = XX.X\n",
    "\n",
    "Entrada\n",
    "A entrada contém três valores reais.\n",
    "\n",
    "Saída\n",
    "O resultado deve ser apresentado com uma casa decimal.<br>\n",
    "6.0 4.0 2.0     ->             \tArea = 10.0<br>\n",
    "6.0 4.0 2.1     ->              Perimetro = 12.1\n",
    "\n",
    "![image.png](attachment:0ad15118-eb3b-4a5b-85f8-ca0fae43cdfc.png)\n"
   ]
  },
  {
   "cell_type": "code",
   "execution_count": 51,
   "metadata": {},
   "outputs": [
    {
     "name": "stdin",
     "output_type": "stream",
     "text": [
      " 6.0 4.0 2.1\n"
     ]
    },
    {
     "name": "stdout",
     "output_type": "stream",
     "text": [
      "Perimetro = 12.1\n"
     ]
    }
   ],
   "source": [
    "numeros = list(map(float,input().split(' ')))\n",
    "\n",
    "\n",
    "soma_ab = numeros[0]+numeros[1] > numeros[2]\n",
    "soma_ac = numeros[0]+numeros[2] > numeros[1]\n",
    "soma_cb = numeros[2]+numeros[1] > numeros[0]\n",
    "if soma_ab and soma_ac and soma_cb:\n",
    "    print(f\"Perimetro = {numeros[0]+numeros[1]+numeros[2]}\")\n",
    "else:\n",
    "    \n",
    "    print(f'Area = {((numeros[0]+numeros[1])*numeros[2])/2}')\n"
   ]
  },
  {
   "cell_type": "code",
   "execution_count": 19,
   "metadata": {},
   "outputs": [
    {
     "name": "stdout",
     "output_type": "stream",
     "text": [
      "Help on class map in module builtins:\n",
      "\n",
      "class map(object)\n",
      " |  map(func, *iterables) --> map object\n",
      " |  \n",
      " |  Make an iterator that computes the function using arguments from\n",
      " |  each of the iterables.  Stops when the shortest iterable is exhausted.\n",
      " |  \n",
      " |  Methods defined here:\n",
      " |  \n",
      " |  __getattribute__(self, name, /)\n",
      " |      Return getattr(self, name).\n",
      " |  \n",
      " |  __iter__(self, /)\n",
      " |      Implement iter(self).\n",
      " |  \n",
      " |  __next__(self, /)\n",
      " |      Implement next(self).\n",
      " |  \n",
      " |  __reduce__(...)\n",
      " |      Return state information for pickling.\n",
      " |  \n",
      " |  ----------------------------------------------------------------------\n",
      " |  Static methods defined here:\n",
      " |  \n",
      " |  __new__(*args, **kwargs) from builtins.type\n",
      " |      Create and return a new object.  See help(type) for accurate signature.\n",
      "\n",
      "None\n"
     ]
    }
   ],
   "source": [
    "print(help(map))"
   ]
  }
 ],
 "metadata": {
  "kernelspec": {
   "display_name": "Python 3",
   "language": "python",
   "name": "python3"
  },
  "language_info": {
   "codemirror_mode": {
    "name": "ipython",
    "version": 3
   },
   "file_extension": ".py",
   "mimetype": "text/x-python",
   "name": "python",
   "nbconvert_exporter": "python",
   "pygments_lexer": "ipython3",
   "version": "3.8.5"
  }
 },
 "nbformat": 4,
 "nbformat_minor": 4
}
