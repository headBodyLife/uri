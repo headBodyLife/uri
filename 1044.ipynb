{
 "cells": [
  {
   "cell_type": "markdown",
   "metadata": {},
   "source": [
    "Leia 2 valores inteiros (A e B). Após, o programa deve mostrar uma mensagem \"Sao Multiplos\" ou \"Nao sao Multiplos\", indicando se os valores lidos são múltiplos entre si.\n",
    "\n",
    "Entrada\n",
    "A entrada contém valores inteiros.\n",
    "\n",
    "Saída\n",
    "A saída deve conter uma das mensagens conforme descrito acima."
   ]
  },
  {
   "cell_type": "code",
   "execution_count": 395,
   "metadata": {},
   "outputs": [
    {
     "name": "stdin",
     "output_type": "stream",
     "text": [
      " 44343 5\n"
     ]
    },
    {
     "name": "stdout",
     "output_type": "stream",
     "text": [
      "Nao sao Multiplos\n"
     ]
    }
   ],
   "source": [
    "a,b = list(map(int,input().split(' ')))\n",
    "maior = a if a > b else b\n",
    "menor = b if b < a else a\n",
    "formula = ((maior // menor) * menor) == maior\n",
    "if formula:\n",
    "    print(\"Sao Multiplos\")\n",
    "else:\n",
    "    print(\"Nao sao Multiplos\")"
   ]
  },
  {
   "cell_type": "code",
   "execution_count": null,
   "metadata": {},
   "outputs": [],
   "source": [
    "numeros = list(map(float,input().split(' ')))\n"
   ]
  },
  {
   "cell_type": "code",
   "execution_count": 200,
   "metadata": {},
   "outputs": [
    {
     "ename": "TypeError",
     "evalue": "map() must have at least two arguments.",
     "output_type": "error",
     "traceback": [
      "\u001b[0;31m---------------------------------------------------------------------------\u001b[0m",
      "\u001b[0;31mTypeError\u001b[0m                                 Traceback (most recent call last)",
      "\u001b[0;32m<ipython-input-200-0363d24395d1>\u001b[0m in \u001b[0;36m<module>\u001b[0;34m\u001b[0m\n\u001b[1;32m      2\u001b[0m \u001b[0ma\u001b[0m \u001b[0;34m=\u001b[0m \u001b[0;34m''\u001b[0m\u001b[0;34m.\u001b[0m\u001b[0mjoin\u001b[0m\u001b[0;34m(\u001b[0m\u001b[0mmap\u001b[0m\u001b[0;34m(\u001b[0m\u001b[0;32mlambda\u001b[0m \u001b[0mx\u001b[0m\u001b[0;34m:\u001b[0m \u001b[0mstr\u001b[0m\u001b[0;34m(\u001b[0m\u001b[0mx\u001b[0m\u001b[0;34m*\u001b[0m\u001b[0;36m2\u001b[0m\u001b[0;34m)\u001b[0m \u001b[0;32mif\u001b[0m \u001b[0mx\u001b[0m\u001b[0;34m%\u001b[0m\u001b[0;36m2\u001b[0m\u001b[0;34m==\u001b[0m\u001b[0;36m0\u001b[0m \u001b[0;32melse\u001b[0m \u001b[0;34m\"\"\u001b[0m\u001b[0;34m,\u001b[0m \u001b[0mrange\u001b[0m\u001b[0;34m(\u001b[0m\u001b[0;36m10\u001b[0m\u001b[0;34m)\u001b[0m\u001b[0;34m)\u001b[0m\u001b[0;34m)\u001b[0m\u001b[0;34m\u001b[0m\u001b[0;34m\u001b[0m\u001b[0m\n\u001b[1;32m      3\u001b[0m \u001b[0;31m#print(\",\".join(str(x) for x in lista))\u001b[0m\u001b[0;34m\u001b[0m\u001b[0;34m\u001b[0m\u001b[0;34m\u001b[0m\u001b[0m\n\u001b[0;32m----> 4\u001b[0;31m \u001b[0mprint\u001b[0m\u001b[0;34m(\u001b[0m\u001b[0;34m\",\"\u001b[0m\u001b[0;34m.\u001b[0m\u001b[0mjoin\u001b[0m\u001b[0;34m(\u001b[0m\u001b[0mmap\u001b[0m\u001b[0;34m(\u001b[0m\u001b[0;32mlambda\u001b[0m \u001b[0mx\u001b[0m\u001b[0;34m:\u001b[0m \u001b[0;34m''\u001b[0m\u001b[0;34m.\u001b[0m\u001b[0mjoin\u001b[0m\u001b[0;34m(\u001b[0m\u001b[0mstr\u001b[0m\u001b[0;34m(\u001b[0m\u001b[0mx\u001b[0m\u001b[0;34m*\u001b[0m\u001b[0mint\u001b[0m\u001b[0;34m(\u001b[0m\u001b[0;36m3\u001b[0m\u001b[0;34m)\u001b[0m \u001b[0;34m==\u001b[0m \u001b[0;34m'9'\u001b[0m\u001b[0;34m)\u001b[0m\u001b[0;34m)\u001b[0m\u001b[0;34m)\u001b[0m\u001b[0;34m)\u001b[0m\u001b[0;34m)\u001b[0m\u001b[0;34m\u001b[0m\u001b[0;34m\u001b[0m\u001b[0m\n\u001b[0m\u001b[1;32m      5\u001b[0m \u001b[0;31m#print(\"\\n\".join(map(lambda x: ''.join(str(x*int(3)), [i if i == '3' else 'sei la' for i in lista]))))\u001b[0m\u001b[0;34m\u001b[0m\u001b[0;34m\u001b[0m\u001b[0;34m\u001b[0m\u001b[0m\n",
      "\u001b[0;31mTypeError\u001b[0m: map() must have at least two arguments."
     ]
    }
   ],
   "source": [
    "lista =list(range(24+1))\n",
    "a = ''.join(map(lambda x: str(x*2) if x%2==0 else \"\", range(10)))\n",
    "#print(\",\".join(str(x) for x in lista))\n",
    "print(\",\".join(map(lambda x: ''.join(str(x*int(3) == '9')))))\n",
    "#print(\"\\n\".join(map(lambda x: ''.join(str(x*int(3)), [i if i == '3' else 'sei la' for i in lista]))))"
   ]
  },
  {
   "cell_type": "code",
   "execution_count": 199,
   "metadata": {},
   "outputs": [
    {
     "ename": "SyntaxError",
     "evalue": "invalid syntax (<ipython-input-199-7d45f2e65f12>, line 6)",
     "output_type": "error",
     "traceback": [
      "\u001b[0;36m  File \u001b[0;32m\"<ipython-input-199-7d45f2e65f12>\"\u001b[0;36m, line \u001b[0;32m6\u001b[0m\n\u001b[0;31m    print(\"\\n\".join(reduce(lambda x: x if x*int(3) == 9)))\u001b[0m\n\u001b[0m                                                       ^\u001b[0m\n\u001b[0;31mSyntaxError\u001b[0m\u001b[0;31m:\u001b[0m invalid syntax\n"
     ]
    }
   ],
   "source": [
    "from functools import reduce\n",
    "lista =list(range(24+1))\n",
    "print(\" \".join(map(str,filter((lambda x: 'tem' if (x * 3 == 9) else 'nao'),lista))))\n",
    "\n",
    "#print(\",\".join(str(x) for x in lista))\n",
    "#print(\"\\n\".join(reduce(lambda x: x if x*int(3) == 9)))\n",
    "        "
   ]
  },
  {
   "cell_type": "code",
   "execution_count": 82,
   "metadata": {},
   "outputs": [
    {
     "name": "stdout",
     "output_type": "stream",
     "text": [
      "\n"
     ]
    }
   ],
   "source": [
    "lista= [1,2,3,4]\n",
    "print(''.join(filter(lambda x: str(x) == '2', lista)))"
   ]
  },
  {
   "cell_type": "code",
   "execution_count": 154,
   "metadata": {},
   "outputs": [
    {
     "name": "stdout",
     "output_type": "stream",
     "text": [
      "[0, 1, 2, 3, 4, 5, 6, 7, 8, 9, 10, 11, 12, 13, 14, 15, 16, 17, 18, 19, 20, 21, 22, 23, 24]\n",
      "nao 0,\n",
      "nao 1,\n",
      "nao 2,\n",
      "sim 3,\n",
      "nao 4,\n",
      "nao 5,\n",
      "nao 6,\n",
      "nao 7,\n",
      "nao 8,\n",
      "nao 9,\n",
      "nao 10,\n",
      "nao 11,\n",
      "nao 12,\n",
      "nao 13,\n",
      "nao 14,\n",
      "nao 15,\n",
      "nao 16,\n",
      "nao 17,\n",
      "nao 18,\n",
      "nao 19,\n",
      "nao 20,\n",
      "nao 21,\n",
      "nao 22,\n",
      "nao 23,\n",
      "nao 24\n"
     ]
    }
   ],
   "source": [
    "from functools import reduce\n",
    "num = 3\n",
    "mult = 5\n",
    "lista =list(range(24+1))\n",
    "print(lista)\n",
    "print(\",\\n\".join([f'sim {i}' if i * 3 == 9 else f'nao {i}' for i in lista ]))"
   ]
  },
  {
   "cell_type": "code",
   "execution_count": 164,
   "metadata": {},
   "outputs": [
    {
     "name": "stdout",
     "output_type": "stream",
     "text": [
      "[3]\n"
     ]
    }
   ],
   "source": [
    "alturaMetros=list(range(10))\n",
    "print(list(filter(lambda x: x * 3 == 9 ,alturaMetros)))"
   ]
  },
  {
   "cell_type": "code",
   "execution_count": 198,
   "metadata": {},
   "outputs": [
    {
     "name": "stdout",
     "output_type": "stream",
     "text": [
      "Multiplo\n"
     ]
    }
   ],
   "source": [
    "num=list(range(10))\n",
    "print(' '.join(filter(lambda x: x == 'Multiplo', filter('Multiplo' if i * 3 == 9 else 'Não Multiplo' for i in num)))"
   ]
  },
  {
   "cell_type": "code",
   "execution_count": 203,
   "metadata": {},
   "outputs": [
    {
     "data": {
      "text/plain": [
       "['nao múltiplo',\n",
       " 'multiplo',\n",
       " 'multiplo',\n",
       " 'nao múltiplo',\n",
       " 'multiplo',\n",
       " 'multiplo',\n",
       " 'nao múltiplo',\n",
       " 'multiplo',\n",
       " 'multiplo',\n",
       " 'nao múltiplo']"
      ]
     },
     "execution_count": 203,
     "metadata": {},
     "output_type": "execute_result"
    }
   ],
   "source": [
    "list(map(lambda x: 'multiplo' if x % 3 else 'nao múltiplo', num))"
   ]
  },
  {
   "cell_type": "code",
   "execution_count": 228,
   "metadata": {},
   "outputs": [
    {
     "ename": "SyntaxError",
     "evalue": "invalid syntax (<ipython-input-228-f7ac2f3b4dc0>, line 1)",
     "output_type": "error",
     "traceback": [
      "\u001b[0;36m  File \u001b[0;32m\"<ipython-input-228-f7ac2f3b4dc0>\"\u001b[0;36m, line \u001b[0;32m1\u001b[0m\n\u001b[0;31m    ['Multiplo' for i in range(10) if i * 3 == 9 else 'Nao multiplo']\u001b[0m\n\u001b[0m                                                 ^\u001b[0m\n\u001b[0;31mSyntaxError\u001b[0m\u001b[0;31m:\u001b[0m invalid syntax\n"
     ]
    }
   ],
   "source": [
    "['Multiplo' for i in range(10) if i * 3 == 9 else 'Nao multiplo']\n"
   ]
  },
  {
   "cell_type": "code",
   "execution_count": 211,
   "metadata": {},
   "outputs": [
    {
     "name": "stdout",
     "output_type": "stream",
     "text": [
      "[65, 39, 221]\n"
     ]
    }
   ],
   "source": [
    "# Python Program to find numbers divisible \n",
    "# by thirteen from a list using anonymous \n",
    "# function \n",
    "\n",
    "# Take a list of numbers. \n",
    "my_list = [12, 65, 54, 39, 102, 339, 221, 50, 70, ] \n",
    "\n",
    "# use anonymous function to filter and comparing \n",
    "# if divisible or not \n",
    "result = list(filter(lambda x: (x % 13 == 0), my_list)) \n",
    "\n",
    "# printing the result \n",
    "print(result) \n"
   ]
  },
  {
   "cell_type": "code",
   "execution_count": 347,
   "metadata": {},
   "outputs": [
    {
     "name": "stdin",
     "output_type": "stream",
     "text": [
      " 444444999 13\n"
     ]
    },
    {
     "name": "stdout",
     "output_type": "stream",
     "text": [
      "Nao sao Multiplos\n"
     ]
    }
   ],
   "source": [
    "a,b = list(map(int,input().split(' ')))\n",
    "if a == 0:\n",
    "    print('Sao Multiplos')\n",
    "else:\n",
    "    tem = ['Sao Multiplos'  for i in range(11) if i * a == b or i * b == a ] \n",
    "    if 'Sao Multiplos' not in tem:\n",
    "        print(\"Nao sao Multiplos\")\n",
    "    else:\n",
    "        print(''.join(tem))\n"
   ]
  },
  {
   "cell_type": "code",
   "execution_count": 346,
   "metadata": {},
   "outputs": [
    {
     "name": "stdin",
     "output_type": "stream",
     "text": [
      " 444444999 13\n"
     ]
    },
    {
     "name": "stdout",
     "output_type": "stream",
     "text": [
      "Nao sao Multiplos\n"
     ]
    }
   ],
   "source": [
    "a,b = list(map(int,input().split(' ')))\n",
    "\n",
    "if a == 0:\n",
    "    print('Sao Multiplos')\n",
    "else:\n",
    "    tem = [True for i in range(11) if i * a == b or i * b == a]\n",
    "    if tem:\n",
    "        print('Sao Multiplos')\n",
    "    else:\n",
    "        print('Nao sao Multiplos')"
   ]
  },
  {
   "cell_type": "code",
   "execution_count": 314,
   "metadata": {},
   "outputs": [
    {
     "data": {
      "text/plain": [
       "'False False False False'"
      ]
     },
     "execution_count": 314,
     "metadata": {},
     "output_type": "execute_result"
    }
   ],
   "source": [
    "' '.join(map(str, map(lambda x,y: (4 *  == 36),list(range(4)))))"
   ]
  },
  {
   "cell_type": "code",
   "execution_count": 344,
   "metadata": {},
   "outputs": [
    {
     "data": {
      "text/plain": [
       "145061.0"
      ]
     },
     "execution_count": 344,
     "metadata": {},
     "output_type": "execute_result"
    }
   ],
   "source": [
    "1595671 / 11"
   ]
  },
  {
   "cell_type": "code",
   "execution_count": 345,
   "metadata": {},
   "outputs": [
    {
     "data": {
      "text/plain": [
       "1595671"
      ]
     },
     "execution_count": 345,
     "metadata": {},
     "output_type": "execute_result"
    }
   ],
   "source": [
    "145061 * 11"
   ]
  },
  {
   "cell_type": "code",
   "execution_count": 349,
   "metadata": {},
   "outputs": [
    {
     "data": {
      "text/plain": [
       "34188076"
      ]
     },
     "execution_count": 349,
     "metadata": {},
     "output_type": "execute_result"
    }
   ],
   "source": [
    "444444999 // 13"
   ]
  },
  {
   "cell_type": "code",
   "execution_count": 391,
   "metadata": {},
   "outputs": [
    {
     "name": "stdout",
     "output_type": "stream",
     "text": [
      "1595671\n",
      "11\n"
     ]
    }
   ],
   "source": [
    "maior = a if a > b else b\n",
    "menor = b if b < a else a\n",
    "print(maior)\n",
    "print(menor)"
   ]
  }
 ],
 "metadata": {
  "kernelspec": {
   "display_name": "Python 3",
   "language": "python",
   "name": "python3"
  },
  "language_info": {
   "codemirror_mode": {
    "name": "ipython",
    "version": 3
   },
   "file_extension": ".py",
   "mimetype": "text/x-python",
   "name": "python",
   "nbconvert_exporter": "python",
   "pygments_lexer": "ipython3",
   "version": "3.8.5"
  }
 },
 "nbformat": 4,
 "nbformat_minor": 4
}
