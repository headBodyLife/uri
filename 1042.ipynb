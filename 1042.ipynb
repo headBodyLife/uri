{
 "cells": [
  {
   "cell_type": "code",
   "execution_count": 1,
   "metadata": {},
   "outputs": [
    {
     "name": "stdin",
     "output_type": "stream",
     "text": [
      " 5 1 30\n"
     ]
    },
    {
     "name": "stdout",
     "output_type": "stream",
     "text": [
      "[5, 1, 30]\n",
      "\u001b[31mi = 0\n",
      "\u001b[33machei = 0\n",
      "j=1\u001b[0;0m\n",
      "\u001b[32machei = 1\u001b[0;0m\n",
      "[1, 5, 30]\n",
      "\u001b[31mi = 0\n",
      "\u001b[33machei = 1\n",
      "j=2\u001b[0;0m\n",
      "[5, 1, 30]\n",
      "\u001b[31mi = 1\n",
      "\u001b[33machei = 1\n",
      "j=2\u001b[0;0m\n",
      "[5, 1, 30]\n"
     ]
    }
   ],
   "source": [
    "numeros = list(map(int,input().split()))\n",
    "print(numeros)\n",
    "# achei deve pegar o numero do indie\n",
    "for i in range(len(numeros)):\n",
    "    achei = i\n",
    "    for j in range(int(i+1),len(numeros)):\n",
    "        print(f\"\"\"\\033[31mi = {i}\n",
    "\\033[33machei = {achei}\n",
    "j={j}\\033[0;0m\"\"\")\n",
    "       \n",
    "        if numeros[j] < numeros[achei]:\n",
    "            achei = j\n",
    "            print(f\"\\033[32machei = {achei}\\033[0;0m\")\n",
    "            #achei = j\n",
    "        temp = numeros[achei]\n",
    "        # 2 =  3\n",
    "        numeros[achei] = numeros[i]\n",
    "        # 3 = 2\n",
    "        numeros[i] = temp    \n",
    "        print(numeros)\n"
   ]
  },
  {
   "cell_type": "code",
   "execution_count": 85,
   "metadata": {},
   "outputs": [
    {
     "data": {
      "text/plain": [
       "2.0"
      ]
     },
     "execution_count": 85,
     "metadata": {},
     "output_type": "execute_result"
    }
   ],
   "source": [
    "lista = list(range(1,5))\n",
    "len(lista) / 2"
   ]
  },
  {
   "cell_type": "code",
   "execution_count": 125,
   "metadata": {},
   "outputs": [
    {
     "name": "stdout",
     "output_type": "stream",
     "text": [
      "[0, 1, 2, 3, 4]\n",
      "1\n"
     ]
    }
   ],
   "source": [
    "lista = list(range(5))\n",
    "print(lista)\n",
    "print(len(lista[1:]) -3)"
   ]
  }
 ],
 "metadata": {
  "kernelspec": {
   "display_name": "Python 3",
   "language": "python",
   "name": "python3"
  },
  "language_info": {
   "codemirror_mode": {
    "name": "ipython",
    "version": 3
   },
   "file_extension": ".py",
   "mimetype": "text/x-python",
   "name": "python",
   "nbconvert_exporter": "python",
   "pygments_lexer": "ipython3",
   "version": "3.8.5"
  }
 },
 "nbformat": 4,
 "nbformat_minor": 4
}
