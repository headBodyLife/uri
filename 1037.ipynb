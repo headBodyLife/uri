{
 "cells": [
  {
   "cell_type": "markdown",
   "metadata": {},
   "source": [
    "Você deve fazer um programa que leia um valor qualquer e apresente uma mensagem dizendo em qual dos seguintes intervalos ([0,25], (25,50], (50,75], (75,100]) este valor se encontra. Obviamente se o valor não estiver em nenhum destes intervalos, deverá ser impressa a mensagem “Fora de intervalo”.\n",
    "\n",
    "O símbolo ( representa \"maior que\". Por exemplo:\n",
    "[0,25]  indica valores entre 0 e 25.0000, inclusive eles.\n",
    "(25,50] indica valores maiores que 25 Ex: 25.00001 até o valor 50.0000000\n",
    "\n",
    "Entrada<br>\n",
    "O arquivo de entrada contém um número com ponto flutuante qualquer.<br>\n",
    "\n",
    "Saída<br>\n",
    "A saída deve ser uma mensagem conforme exemplo abaixo.<br>\n",
    "25.01\n",
    "\n",
    "  Intervalo (25,50]\n"
   ]
  },
  {
   "cell_type": "code",
   "execution_count": 62,
   "metadata": {},
   "outputs": [
    {
     "name": "stdin",
     "output_type": "stream",
     "text": [
      " 44.88\n"
     ]
    },
    {
     "name": "stdout",
     "output_type": "stream",
     "text": [
      "Intervalo (25,50]\n"
     ]
    }
   ],
   "source": [
    "from math import ceil\n",
    "entrada = float(input())\n",
    "numeros = [[0,25], [25,50], [50,75], [75,100]]\n",
    "cont = 0\n",
    "for indice,_ in enumerate(numeros):\n",
    "    if ceil(entrada) in range(numeros[indice][0],numeros[indice][1]+1):\n",
    "        if cont == 0:\n",
    "            print(f\"Intervalo [{numeros[indice][0]},{numeros[indice][1]}]\")\n",
    "        else:\n",
    "            print(f\"Intervalo ({numeros[indice][0]},{numeros[indice][1]}]\")\n",
    "        break\n",
    "    else:\n",
    "        cont += 1\n",
    "        \n",
    "    if len(numeros) == cont:\n",
    "        print(\"Fora de intervalo\")\n",
    "    \n",
    "\n",
    "            "
   ]
  },
  {
   "cell_type": "code",
   "execution_count": 40,
   "metadata": {},
   "outputs": [
    {
     "data": {
      "text/plain": [
       "False"
      ]
     },
     "execution_count": 40,
     "metadata": {},
     "output_type": "execute_result"
    }
   ],
   "source": []
  },
  {
   "cell_type": "code",
   "execution_count": 52,
   "metadata": {},
   "outputs": [
    {
     "name": "stdin",
     "output_type": "stream",
     "text": [
      " 44.88\n"
     ]
    },
    {
     "name": "stdout",
     "output_type": "stream",
     "text": [
      "Fora de intervalo\n"
     ]
    }
   ],
   "source": [
    "from math import ceil\n",
    "import numpy\n",
    "entrada = float(input())\n",
    "numeros = [[0.0,25.0], [25.0,50.0], [50.0,75.0], [75.0,100.0]]\n",
    "cont = 0\n",
    "for indice,numero in enumerate(numeros):\n",
    "    if entrada in numpy.arange(numeros[indice][0],numeros[indice][1]+1):\n",
    "        if entrada <= 25.0000:\n",
    "            print(f\"Intervalo [{int(numeros[indice][0])},{int(numeros[indice][1])}]\")\n",
    "        elif entrada <= 50.0000000:\n",
    "            print(f\"Intervalo ({int(numeros[indice][0])},{int(numeros[indice][1])}]\")\n",
    "        elif entrada <= 75.0000000:\n",
    "            print(f\"Intervalo ({int(numeros[indice][0])},{int(numeros[indice][1])}]\")\n",
    "        elif entrada <= 100.0000000:\n",
    "            print(f\"Intervalo ({int(numeros[indice][0])},{int(numeros[indice][1])}]\")\n",
    "        break\n",
    "    else:\n",
    "        cont+=1\n",
    "    if len(numeros) == cont:\n",
    "        print(\"Fora de intervalo\")\n",
    "\n",
    "            "
   ]
  },
  {
   "cell_type": "code",
   "execution_count": 30,
   "metadata": {},
   "outputs": [
    {
     "data": {
      "text/plain": [
       "False"
      ]
     },
     "execution_count": 30,
     "metadata": {},
     "output_type": "execute_result"
    }
   ],
   "source": [
    "44.88 in range(25,51)"
   ]
  },
  {
   "cell_type": "code",
   "execution_count": 33,
   "metadata": {},
   "outputs": [
    {
     "data": {
      "text/plain": [
       "True"
      ]
     },
     "execution_count": 33,
     "metadata": {},
     "output_type": "execute_result"
    }
   ],
   "source": [
    "44.88 > 25 and 44.88 < 51"
   ]
  },
  {
   "cell_type": "code",
   "execution_count": 37,
   "metadata": {},
   "outputs": [
    {
     "data": {
      "text/plain": [
       "True"
      ]
     },
     "execution_count": 37,
     "metadata": {},
     "output_type": "execute_result"
    }
   ],
   "source": [
    "44.88 > 43.88"
   ]
  },
  {
   "cell_type": "code",
   "execution_count": 39,
   "metadata": {},
   "outputs": [
    {
     "data": {
      "text/plain": [
       "[0.0, 0.1, 0.2, 0.3, 0.4, 0.5, 0.6, 0.7, 0.8, 0.9]"
      ]
     },
     "execution_count": 39,
     "metadata": {},
     "output_type": "execute_result"
    }
   ],
   "source": [
    "[p/10 for p in range(0, 10)]"
   ]
  },
  {
   "cell_type": "code",
   "execution_count": 41,
   "metadata": {},
   "outputs": [
    {
     "name": "stdout",
     "output_type": "stream",
     "text": [
      "Defaulting to user installation because normal site-packages is not writeable\n",
      "Collecting numpy\n",
      "  Downloading numpy-1.19.4-cp38-cp38-manylinux2010_x86_64.whl (14.5 MB)\n",
      "\u001b[K     |████████████████████████████████| 14.5 MB 1.1 MB/s eta 0:00:01    |████▍                           | 2.0 MB 437 kB/s eta 0:00:29     |█████▉                          | 2.7 MB 553 kB/s eta 0:00:22\n",
      "\u001b[?25hInstalling collected packages: numpy\n",
      "\u001b[33m  WARNING: The scripts f2py, f2py3 and f2py3.8 are installed in '/home/allan/.local/bin' which is not on PATH.\n",
      "  Consider adding this directory to PATH or, if you prefer to suppress this warning, use --no-warn-script-location.\u001b[0m\n",
      "Successfully installed numpy-1.19.4\n"
     ]
    }
   ],
   "source": [
    "!pip install numpy"
   ]
  },
  {
   "cell_type": "code",
   "execution_count": 45,
   "metadata": {},
   "outputs": [
    {
     "ename": "SyntaxError",
     "evalue": "invalid syntax (<ipython-input-45-307c94472b47>, line 3)",
     "output_type": "error",
     "traceback": [
      "\u001b[0;36m  File \u001b[0;32m\"<ipython-input-45-307c94472b47>\"\u001b[0;36m, line \u001b[0;32m3\u001b[0m\n\u001b[0;31m    for i in numpy.arange(0, n[0].1):\u001b[0m\n\u001b[0m                                 ^\u001b[0m\n\u001b[0;31mSyntaxError\u001b[0m\u001b[0;31m:\u001b[0m invalid syntax\n"
     ]
    }
   ],
   "source": [
    "import numpy\n",
    "n = [5]\n",
    "for i in numpy.arange(0, n[0].1):\n",
    "    print(i)"
   ]
  },
  {
   "cell_type": "code",
   "execution_count": 67,
   "metadata": {},
   "outputs": [
    {
     "name": "stdin",
     "output_type": "stream",
     "text": [
      " 44.88\n"
     ]
    },
    {
     "name": "stdout",
     "output_type": "stream",
     "text": [
      "[0.0, 25.0]\n",
      "[25.0, 50.0]\n",
      "[50.0, 75.0]\n",
      "[75.0, 100.0]\n"
     ]
    }
   ],
   "source": [
    "from math import ceil\n",
    "import numpy\n",
    "entrada = float(input())\n",
    "numeros = [[0.0,25.0], [25.0,50.0], [50.0,75.0], [75.0,100.0]]\n",
    "cont = 0\n",
    "for indice,numero in enumerate(numeros):\n",
    "    print(numero)\n",
    "                                    ## 0               ,    25.0\n",
    "    if entrada in numpy.arange(numeros[indice][0],numeros[indice][1]+1):\n",
    "        if entrada <= 25.0000:\n",
    "            print(f\"Intervalo [{numeros[indice][0]},{numeros[indice][1]}]\")\n",
    "        elif entrada <= 50.0000000:\n",
    "            print(f\"Intervalo ({numeros[indice][0]},{numeros[indice][1]}]\")\n",
    "        elif entrada <= 75.0000000:\n",
    "            print(f\"Intervalo ({numeros[indice][0]},{numeros[indice][1]}]\")\n",
    "        #elif entrada <= 100.0000000:\n",
    "         #   print(f\"Intervalo ({int(numeros[indice][0])},{int(numeros[indice][1])}]\")\n",
    "       # break"
   ]
  },
  {
   "cell_type": "code",
   "execution_count": 52,
   "metadata": {},
   "outputs": [
    {
     "name": "stdin",
     "output_type": "stream",
     "text": [
      " 100.0\n"
     ]
    },
    {
     "name": "stdout",
     "output_type": "stream",
     "text": [
      "Intervalo (75,100]\n"
     ]
    }
   ],
   "source": [
    "entrada = float(input())\n",
    "numeros = [[0.0,25.0], [25.0,50.0], [50.0,75.0], [75.0,100.0]]\n",
    "cont = 0\n",
    "for numero in numeros:\n",
    "    if entrada <= numero[1] and entrada >= 0:\n",
    "        if entrada <= 25.0:\n",
    "            print(f\"Intervalo [{int(numero[0])},{int(numero[1])}]\")\n",
    "            \n",
    "        else:\n",
    "            print(f\"Intervalo ({int(numero[0])},{int(numero[1])}]\")\n",
    "        break\n",
    "    else:        \n",
    "        cont += 1\n",
    "    if len(numeros) == cont:\n",
    "        print(\"Fora de intervalo\")"
   ]
  },
  {
   "cell_type": "code",
   "execution_count": 49,
   "metadata": {},
   "outputs": [
    {
     "name": "stdin",
     "output_type": "stream",
     "text": [
      "  25.00\n"
     ]
    },
    {
     "name": "stdout",
     "output_type": "stream",
     "text": [
      "Intervalo [0,25]\n"
     ]
    }
   ],
   "source": [
    "entrada = float(input())\n",
    "numeros = [[0.0,25.0], [25.0,50.0], [50.0,75.0], [75.0,100.0]]\n",
    "cont = 0\n",
    "for numero in numeros:\n",
    "    if entrada <= 100.0 and entrada >= 0:\n",
    "        if entrada <= 25.0:\n",
    "            print(f\"Intervalo [{int(numero[0])},{int(numero[1])}]\")\n",
    "            break\n",
    "        elif entrada <= numero[1]:\n",
    "            print(f\"Intervalo ({int(numero[0])},{int(numero[1])}]\")\n",
    "            break\n",
    "        \n",
    "    else:\n",
    "        print(\"Fora de intervalo\")\n",
    "        break\n",
    "    "
   ]
  },
  {
   "cell_type": "code",
   "execution_count": 74,
   "metadata": {},
   "outputs": [
    {
     "data": {
      "text/plain": [
       "False"
      ]
     },
     "execution_count": 74,
     "metadata": {},
     "output_type": "execute_result"
    }
   ],
   "source": [
    "44.88 < 25.00"
   ]
  },
  {
   "cell_type": "code",
   "execution_count": 75,
   "metadata": {},
   "outputs": [
    {
     "data": {
      "text/plain": [
       "True"
      ]
     },
     "execution_count": 75,
     "metadata": {},
     "output_type": "execute_result"
    }
   ],
   "source": [
    "44.88 < 50.00"
   ]
  },
  {
   "cell_type": "code",
   "execution_count": 88,
   "metadata": {},
   "outputs": [
    {
     "name": "stdin",
     "output_type": "stream",
     "text": [
      " 44.88\n"
     ]
    }
   ],
   "source": [
    "from math import ceil\n",
    "import numpy\n",
    "entrada = float(input())\n",
    "numeros = [[0.0,25.0], [25.0,50.0], [50.0,75.0], [75.0,100.0]]\n",
    "cont = 0\n",
    "for indice,numero in enumerate(numeros):\n",
    "                                    ## 0               ,    25.0\n",
    "    if entrada in numpy.arange(numeros[indice][0],numeros[indice][1]+1):\n",
    "        if entrada <= 25.0000:\n",
    "            print(\"menor\")\n",
    "        elif entrada <= 50.0000000:\n",
    "            print(\"maior\")\n",
    "        break"
   ]
  },
  {
   "cell_type": "code",
   "execution_count": 107,
   "metadata": {},
   "outputs": [
    {
     "name": "stdin",
     "output_type": "stream",
     "text": [
      " 48.1\n"
     ]
    },
    {
     "name": "stdout",
     "output_type": "stream",
     "text": [
      "merda\n",
      "merda\n",
      "merda\n",
      "merda\n"
     ]
    }
   ],
   "source": [
    "from math import ceil\n",
    "import numpy\n",
    "entrada = float(input())\n",
    "numeros = [[0.0,25.0], [25.0,50.0], [50.0,75.0], [75.0,100.0]]\n",
    "cont = 0\n",
    "for merda in numeros:\n",
    "    print('merda')\n",
    "    if entrada in numpy.arange(merda[0],merda[1]):\n",
    "        print('merda')\n",
    "        if entrada <= 25.0000:\n",
    "            print(f\"Intervalo [{merda[0]},{merda[1]}]\")\n",
    "        elif entrada <= 50.0000000:\n",
    "            print(f\"Intervalo [{merda[0]},{merda[1]}]\")\n",
    "        elif entrada <= 75.0000000:\n",
    "            print(f\"Intervalo [{merda[0]},{merda[1]}]\")\n",
    "#for i in numpy.arange(numeros[0][0],numeros[3][1]+1):\n",
    " #   if entrada == i:\n",
    "    "
   ]
  },
  {
   "cell_type": "code",
   "execution_count": 117,
   "metadata": {},
   "outputs": [
    {
     "name": "stdin",
     "output_type": "stream",
     "text": [
      " 5\n"
     ]
    },
    {
     "name": "stdout",
     "output_type": "stream",
     "text": [
      "[0.0, 1.0, 2.0, 3.0, 4.0, 5.0, 6.0, 7.0, 8.0, 9.0, 10.0, 11.0, 12.0, 13.0, 14.0, 15.0, 16.0, 17.0, 18.0, 19.0, 20.0, 21.0, 22.0, 23.0, 24.0, 25.0, 26.0, 27.0, 28.0, 29.0, 30.0, 31.0, 32.0, 33.0, 34.0, 35.0, 36.0, 37.0, 38.0, 39.0, 40.0, 41.0, 42.0, 43.0, 44.0, 45.0, 46.0, 47.0, 48.0, 49.0, 50.0, 51.0, 52.0, 53.0, 54.0, 55.0, 56.0, 57.0, 58.0, 59.0, 60.0, 61.0, 62.0, 63.0, 64.0, 65.0, 66.0, 67.0, 68.0, 69.0, 70.0, 71.0, 72.0, 73.0, 74.0, 75.0, 76.0, 77.0, 78.0, 79.0, 80.0, 81.0, 82.0, 83.0, 84.0, 85.0, 86.0, 87.0, 88.0, 89.0, 90.0, 91.0, 92.0, 93.0, 94.0, 95.0, 96.0, 97.0, 98.0, 99.0]\n"
     ]
    }
   ],
   "source": [
    "from math import ceil\n",
    "import numpy\n",
    "entrada = float(input())\n",
    "numeros = [[0.0,25.0], [25.0,50.0], [50.0,75.0], [75.0,100.0]]\n",
    "cont = 0\n",
    "\n",
    "lixo = lambda i: i+range(1[i+1 for i in numpy.arange(numeros[0][0],numeros[3][1])]\n",
    "print(lixo)"
   ]
  },
  {
   "cell_type": "code",
   "execution_count": 72,
   "metadata": {},
   "outputs": [
    {
     "name": "stdin",
     "output_type": "stream",
     "text": [
      "  4 3\n"
     ]
    },
    {
     "name": "stdout",
     "output_type": "stream",
     "text": [
      "Total: R$ 6.00\n"
     ]
    }
   ],
   "source": [
    "lanches = {\n",
    "    1 : 4.00,\n",
    "    2 : 4.50,\n",
    "    3 : 5.00,\n",
    "    4 : 2.00,\n",
    "    5 : 1.50\n",
    "    }   \n",
    "pedido = list(map(int,input().split()))\n",
    "print(f\"Total: R$ {lanches[pedido[0]]*pedido[1]:.2f}\")\n"
   ]
  },
  {
   "cell_type": "code",
   "execution_count": 180,
   "metadata": {},
   "outputs": [
    {
     "name": "stdin",
     "output_type": "stream",
     "text": [
      " 2.0 4.0 7.5 8.0\n"
     ]
    },
    {
     "name": "stdout",
     "output_type": "stream",
     "text": [
      "Media: 5.4\n"
     ]
    },
    {
     "name": "stdin",
     "output_type": "stream",
     "text": [
      " 6.4\n"
     ]
    },
    {
     "name": "stdout",
     "output_type": "stream",
     "text": [
      "Aluno em exame.\n",
      "Nota do exame: 6.4\n",
      "Media final: 5.9\n",
      "Aluno aprovado.\n"
     ]
    }
   ],
   "source": [
    "numeros = list(map(float,input().split()))\n",
    "pesos = [ 2, 3, 4, 1]\n",
    "media = sum(map(lambda x,y:x*y,numeros,pesos)) / sum(pesos) \n",
    "print(f\"Media: {media:.1f}\")\n",
    "if media >= 7.0:\n",
    "    print('Aluno aprovado.')\n",
    "elif media >= 5.0 and media <= 6.9:\n",
    "    exame = float(input())\n",
    "    total = (media + exame) /2\n",
    "    print(\"Aluno em exame.\")\n",
    "    print(f\"Nota do exame: {exame:.1f}\")\n",
    "    print(f\"Media final: {total:.1f}\\nAluno aprovado.\" if total > 5.0 else f\"Aluno reprovado.\\nMedia final: {total:.1f}\" )\n",
    "else:\n",
    "    print(\"Aluno reprovado.\")"
   ]
  },
  {
   "cell_type": "code",
   "execution_count": 183,
   "metadata": {},
   "outputs": [
    {
     "name": "stdin",
     "output_type": "stream",
     "text": [
      " 2.0 4.0 7.5 8.0\n",
      " 1.4\n"
     ]
    },
    {
     "name": "stdout",
     "output_type": "stream",
     "text": [
      "Media: 5.4\n",
      "Aluno em exame.\n",
      "Nota do exame: 1.4\n",
      "Aluno reprovado.\n",
      "Media final: 3.4\n"
     ]
    }
   ],
   "source": [
    "numeros = list(map(float,input().split()))\n",
    "pesos = [ 2, 3, 4, 1]\n",
    "media = sum(map(lambda x,y:x*y,numeros,pesos)) / sum(pesos)\n",
    "if media >= 7.0:\n",
    "    print(f\"Media: {media:.1f}\")\n",
    "    print('Aluno aprovado.')\n",
    "elif media >= 5.0 and media <= 6.9:\n",
    "    exame = float(input())\n",
    "    total = (media + exame) /2\n",
    "    print(f\"Media: {media:.1f}\")\n",
    "    print(\"Aluno em exame.\")\n",
    "    print(f\"Nota do exame: {exame:.1f}\")\n",
    "    print(f\"Aluno aprovado.\\nMedia final: {total:.1f}\" if total > 5.0 else f\"Aluno reprovado.\\nMedia final: {total:.1f}\" )\n",
    "else:\n",
    "    print(f\"Media: {media:.1f}\")\n",
    "    print(\"Aluno reprovado.\")"
   ]
  },
  {
   "attachments": {
    "2b06e13c-6ffc-4535-9d7f-a09244b8a90d.png": {
     "image/png": "[encoded data removed]"
    }
   },
   "cell_type": "markdown",
   "metadata": {},
   "source": [
    "![image.png](attachment:2b06e13c-6ffc-4535-9d7f-a09244b8a90d.png)\n"
   ]
  },
  {
   "cell_type": "code",
   "execution_count": 5,
   "metadata": {},
   "outputs": [
    {
     "name": "stdin",
     "output_type": "stream",
     "text": [
      " 0 1\n"
     ]
    },
    {
     "name": "stdout",
     "output_type": "stream",
     "text": [
      "Eixo Y\n"
     ]
    }
   ],
   "source": [
    "x,y = list(map(float,input().split()))\n",
    "if x == 0 and y == 0:\n",
    "    print('Origem')\n",
    "else:\n",
    "    if x > 0.0 and y < 0.0:\n",
    "        print('Q4')\n",
    "    elif x > 0.0 and y > 0.0:\n",
    "        print('Q1')\n",
    "    elif x < 0.0  and y > 0.0:\n",
    "        print('Q2')\n",
    "    elif x < 0.0 and y < 0.0:\n",
    "        print('Q3')\n",
    "    elif x > 0:\n",
    "        print(\"Eixo X\")\n",
    "    elif y > 0:\n",
    "        print(\"Eixo Y\")\n",
    "\n",
    "    \n"
   ]
  },
  {
   "cell_type": "code",
   "execution_count": 87,
   "metadata": {},
   "outputs": [
    {
     "ename": "TypeError",
     "evalue": "'function' object is not iterable",
     "output_type": "error",
     "traceback": [
      "\u001b[0;31m---------------------------------------------------------------------------\u001b[0m",
      "\u001b[0;31mTypeError\u001b[0m                                 Traceback (most recent call last)",
      "\u001b[0;32m<ipython-input-87-50c7022470f5>\u001b[0m in \u001b[0;36m<module>\u001b[0;34m\u001b[0m\n\u001b[0;32m----> 1\u001b[0;31m \u001b[0mlist\u001b[0m\u001b[0;34m(\u001b[0m\u001b[0;32mlambda\u001b[0m \u001b[0mx\u001b[0m\u001b[0;34m,\u001b[0m\u001b[0my\u001b[0m\u001b[0;34m:\u001b[0m\u001b[0mnumeros\u001b[0m\u001b[0;34m[\u001b[0m\u001b[0mx\u001b[0m\u001b[0;34m]\u001b[0m\u001b[0;34m*\u001b[0m\u001b[0mnumeros\u001b[0m\u001b[0;34m[\u001b[0m\u001b[0my\u001b[0m\u001b[0;34m]\u001b[0m\u001b[0;34m)\u001b[0m\u001b[0;34m\u001b[0m\u001b[0;34m\u001b[0m\u001b[0m\n\u001b[0m",
      "\u001b[0;31mTypeError\u001b[0m: 'function' object is not iterable"
     ]
    }
   ],
   "source": [
    "list(lambda x,y:numeros[x]*numeros[y])"
   ]
  },
  {
   "cell_type": "code",
   "execution_count": 105,
   "metadata": {},
   "outputs": [
    {
     "name": "stdin",
     "output_type": "stream",
     "text": [
      " 2 2\n"
     ]
    },
    {
     "data": {
      "text/plain": [
       "2.0"
      ]
     },
     "execution_count": 105,
     "metadata": {},
     "output_type": "execute_result"
    }
   ],
   "source": [
    "numeros =list(map(int,input().split()))\n",
    "from functools import reduce\n",
    "reduce(lambda x, y: x + y, numeros) / 2\n"
   ]
  },
  {
   "cell_type": "code",
   "execution_count": 9,
   "metadata": {},
   "outputs": [
    {
     "ename": "TypeError",
     "evalue": "'int' object is not iterable",
     "output_type": "error",
     "traceback": [
      "\u001b[0;31m---------------------------------------------------------------------------\u001b[0m",
      "\u001b[0;31mTypeError\u001b[0m                                 Traceback (most recent call last)",
      "\u001b[0;32m<ipython-input-9-49d5cf97273f>\u001b[0m in \u001b[0;36m<module>\u001b[0;34m\u001b[0m\n\u001b[1;32m      1\u001b[0m \u001b[0mnum\u001b[0m \u001b[0;34m=\u001b[0m \u001b[0;36m20\u001b[0m\u001b[0;34m\u001b[0m\u001b[0;34m\u001b[0m\u001b[0m\n\u001b[0;32m----> 2\u001b[0;31m \u001b[0mmerda\u001b[0m \u001b[0;34m=\u001b[0m \u001b[0mlist\u001b[0m\u001b[0;34m(\u001b[0m\u001b[0mmap\u001b[0m\u001b[0;34m(\u001b[0m\u001b[0;32mlambda\u001b[0m \u001b[0mn\u001b[0m\u001b[0;34m:\u001b[0m \u001b[0;34m''\u001b[0m\u001b[0;34m.\u001b[0m\u001b[0mjoin\u001b[0m\u001b[0;34m(\u001b[0m\u001b[0mn\u001b[0m\u001b[0;34m[\u001b[0m\u001b[0;34m:\u001b[0m\u001b[0;34m:\u001b[0m\u001b[0;34m-\u001b[0m\u001b[0;36m1\u001b[0m\u001b[0;34m]\u001b[0m\u001b[0;34m+\u001b[0m\u001b[0;36m1\u001b[0m\u001b[0;34m)\u001b[0m\u001b[0;34m,\u001b[0m\u001b[0mnum\u001b[0m\u001b[0;34m)\u001b[0m\u001b[0;34m)\u001b[0m\u001b[0;34m\u001b[0m\u001b[0;34m\u001b[0m\u001b[0m\n\u001b[0m\u001b[1;32m      3\u001b[0m \u001b[0mprint\u001b[0m\u001b[0;34m(\u001b[0m\u001b[0;34m'\\n'\u001b[0m\u001b[0;34m.\u001b[0m\u001b[0mjoin\u001b[0m\u001b[0;34m(\u001b[0m\u001b[0mmap\u001b[0m\u001b[0;34m(\u001b[0m\u001b[0;32mlambda\u001b[0m \u001b[0mn\u001b[0m\u001b[0;34m:\u001b[0m \u001b[0;34m''\u001b[0m\u001b[0;34m.\u001b[0m\u001b[0mjoin\u001b[0m\u001b[0;34m(\u001b[0m\u001b[0mn\u001b[0m\u001b[0;34m[\u001b[0m\u001b[0;34m:\u001b[0m\u001b[0;34m:\u001b[0m\u001b[0;34m-\u001b[0m\u001b[0;36m1\u001b[0m\u001b[0;34m]\u001b[0m\u001b[0;34m+\u001b[0m\u001b[0mn\u001b[0m\u001b[0;34m)\u001b[0m\u001b[0;34m,\u001b[0m\u001b[0;34m[\u001b[0m\u001b[0;34m[\u001b[0m\u001b[0mstr\u001b[0m\u001b[0;34m(\u001b[0m\u001b[0mi\u001b[0m\u001b[0;34m)\u001b[0m \u001b[0;32mif\u001b[0m \u001b[0mi\u001b[0m \u001b[0;34m>\u001b[0m \u001b[0mx\u001b[0m \u001b[0;32melse\u001b[0m \u001b[0;34m' '\u001b[0m\u001b[0;34m*\u001b[0m\u001b[0mlen\u001b[0m\u001b[0;34m(\u001b[0m\u001b[0mstr\u001b[0m\u001b[0;34m(\u001b[0m\u001b[0mi\u001b[0m\u001b[0;34m)\u001b[0m\u001b[0;34m)\u001b[0m\u001b[0;32mfor\u001b[0m \u001b[0mi\u001b[0m \u001b[0;32min\u001b[0m \u001b[0mrange\u001b[0m\u001b[0;34m(\u001b[0m\u001b[0;36m1\u001b[0m\u001b[0;34m,\u001b[0m\u001b[0mnum\u001b[0m\u001b[0;34m+\u001b[0m\u001b[0;36m1\u001b[0m\u001b[0;34m)\u001b[0m\u001b[0;34m]\u001b[0m\u001b[0;32mfor\u001b[0m \u001b[0mx\u001b[0m \u001b[0;32min\u001b[0m \u001b[0mrange\u001b[0m\u001b[0;34m(\u001b[0m\u001b[0mnum\u001b[0m\u001b[0;34m)\u001b[0m\u001b[0;34m]\u001b[0m\u001b[0;34m)\u001b[0m\u001b[0;34m)\u001b[0m\u001b[0;34m)\u001b[0m\u001b[0;34m\u001b[0m\u001b[0;34m\u001b[0m\u001b[0m\n",
      "\u001b[0;31mTypeError\u001b[0m: 'int' object is not iterable"
     ]
    }
   ],
   "source": [
    "num = 20\n",
    "print('\\n'.join(map(lambda n: ''.join(n[::-1]+n),[[str(i) if i > x else ' '*len(str(i))for i in range(1,num+1)]for x in range(num)])))"
   ]
  }
 ],
 "metadata": {
  "kernelspec": {
   "display_name": "Python 3",
   "language": "python",
   "name": "python3"
  },
  "language_info": {
   "codemirror_mode": {
    "name": "ipython",
    "version": 3
   },
   "file_extension": ".py",
   "mimetype": "text/x-python",
   "name": "python",
   "nbconvert_exporter": "python",
   "pygments_lexer": "ipython3",
   "version": "3.8.5"
  }
 },
 "nbformat": 4,
 "nbformat_minor": 4
}
