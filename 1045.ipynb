{
 "cells": [
  {
   "cell_type": "markdown",
   "metadata": {},
   "source": [
    "Leia 3 valores de ponto flutuante A, B e C e ordene-os em ordem decrescente, de modo que o lado A representa o maior dos 3 lados. A seguir, determine o tipo de triângulo que estes três lados formam, com base nos seguintes casos, sempre escrevendo uma mensagem adequada:\n",
    "\n",
    "se A ≥ B+C, apresente a mensagem: NAO FORMA TRIANGULO<br>\n",
    "se A2 = B2 + C2, apresente a mensagem: TRIANGULO RETANGULO<br>\n",
    "se A2 > B2 + C2, apresente a mensagem: TRIANGULO OBTUSANGULO<br>\n",
    "se A2 < B2 + C2, apresente a mensagem: TRIANGULO ACUTANGULO<br>\n",
    "se os três lados forem iguais, apresente a mensagem: TRIANGULO EQUILATERO<br>\n",
    "se apenas dois dos lados forem iguais, apresente a mensagem: TRIANGULO ISOSCELES<br>\n",
    "Entrada<br>\n",
    "A entrada contem três valores de ponto flutuante de dupla precisão A (0 < A) , B (0 < B) e C (0 < C).\n",
    "\n",
    "Saída<br>\n",
    "Imprima todas as classificações do triângulo especificado na entrada."
   ]
  },
  {
   "cell_type": "code",
   "execution_count": 15,
   "metadata": {},
   "outputs": [
    {
     "name": "stdin",
     "output_type": "stream",
     "text": [
      " 5.0 7.0 2.0\n"
     ]
    },
    {
     "name": "stdout",
     "output_type": "stream",
     "text": [
      "2.0\n",
      "2.0 2.0\n",
      "NAO FORMA TRIANGULO\n"
     ]
    }
   ],
   "source": [
    "from functools import reduce\n",
    "numeros = list(map(float,input().split(' ')))\n",
    "a,b,c = numeros\n",
    "a = reduce(lambda x,y: x if (x>y) else y,numeros)\n",
    "b = b if b < c else c\n",
    "print(b)\n",
    "print(b,c)\n",
    "if a >= b + c:\n",
    "    print('NAO FORMA TRIANGULO')\n"
   ]
  },
  {
   "cell_type": "code",
   "execution_count": 48,
   "metadata": {},
   "outputs": [
    {
     "name": "stdin",
     "output_type": "stream",
     "text": [
      " 6.0 6.0 10.0\n"
     ]
    },
    {
     "name": "stdout",
     "output_type": "stream",
     "text": [
      "TRIANGULO OBTUSANGULO\n",
      "TRIANGULO ISOSCELES\n"
     ]
    }
   ],
   "source": [
    "numeros = list(map(float,input().split(' ')))\n",
    "for i in range(len(numeros)):\n",
    "    indice_maior = i\n",
    "    for j in range(i+1,len(numeros)):\n",
    "        if numeros[indice_maior] < numeros[j]:\n",
    "            indice_maior = j\n",
    "    temp = numeros[i]\n",
    "    numeros[i] = numeros[indice_maior]\n",
    "    numeros[indice_maior] = temp\n",
    "A,B,C = numeros\n",
    "if A >= B + C:\n",
    "    print('NAO FORMA TRIANGULO')\n",
    "else:\n",
    "    if A**2 == B**2 + C**2:\n",
    "        print('TRIANGULO RETANGULO')\n",
    "    if A**2 > B**2 + C**2:\n",
    "        print('TRIANGULO OBTUSANGULO')\n",
    "    if A**2 < B**2 + C**2:\n",
    "        print('TRIANGULO ACUTANGULO')\n",
    "    if A == B == C:\n",
    "        print('TRIANGULO EQUILATERO')\n",
    "    if A == B != C or B == C != A:\n",
    "        print('TRIANGULO ISOSCELES')"
   ]
  },
  {
   "cell_type": "code",
   "execution_count": 41,
   "metadata": {},
   "outputs": [
    {
     "name": "stdout",
     "output_type": "stream",
     "text": [
      "s\n"
     ]
    }
   ],
   "source": [
    "a,b,c = 2,2,2\n",
    "if a == b == c:\n",
    "    print('s')"
   ]
  }
 ],
 "metadata": {
  "kernelspec": {
   "display_name": "Python 3",
   "language": "python",
   "name": "python3"
  },
  "language_info": {
   "codemirror_mode": {
    "name": "ipython",
    "version": 3
   },
   "file_extension": ".py",
   "mimetype": "text/x-python",
   "name": "python",
   "nbconvert_exporter": "python",
   "pygments_lexer": "ipython3",
   "version": "3.8.5"
  }
 },
 "nbformat": 4,
 "nbformat_minor": 4
}
